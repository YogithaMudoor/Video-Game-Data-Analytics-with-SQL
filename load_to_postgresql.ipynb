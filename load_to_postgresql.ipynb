{
  "cells": [
    {
      "cell_type": "markdown",
      "id": "aae33d10",
      "metadata": {
        "id": "aae33d10"
      },
      "source": [
        "# LOAD dataframes into PostgreSQL\n"
      ]
    },
    {
      "cell_type": "markdown",
      "source": [
        "In this step we will load the dataframes created above from transformed data and load into the table created in STEP 1.\n",
        "\n",
        "Connect to the PostgreSQL database server from the colab using the psycopg database adapter.\n",
        "\n",
        "To connect to the Video_games database, you use the connect() function of the psycopg2 module.The connection class of the psycopg2 represents/handles an instance of a connection. You can create new connections using the connect() function. This accepts the basic connection parameters such as dbname, user, password, host, port and returns a connection object. Using this function, you can establish a connection with the PostgreSQL.\n",
        "\n",
        "Follow this link for more info https://www.postgresqltutorial.com/postgresql-python/connect/\n",
        "\n",
        "Install 2 libraries\n",
        "\n",
        "pyscopg2-binary<br>\n",
        "sqlalchemy"
      ],
      "metadata": {
        "id": "2kfjatQo5uY_"
      },
      "id": "2kfjatQo5uY_"
    },
    {
      "cell_type": "code",
      "execution_count": null,
      "id": "3197a1aa",
      "metadata": {
        "id": "3197a1aa",
        "outputId": "b57343fc-91fc-4964-f11f-f7ecc65a00e3"
      },
      "outputs": [
        {
          "name": "stdout",
          "output_type": "stream",
          "text": [
            "Requirement already satisfied: psycopg2 in c:\\users\\hp\\anaconda3\\lib\\site-packages (2.9.4)\n"
          ]
        }
      ],
      "source": [
        "!pip install psycopg2 "
      ]
    },
    {
      "cell_type": "code",
      "execution_count": null,
      "id": "e8bab6e5",
      "metadata": {
        "id": "e8bab6e5"
      },
      "outputs": [],
      "source": [
        "#import psycopg2,create_engine,pandas\n",
        "import psycopg2\n",
        "from sqlalchemy import create_engine\n",
        "import pandas as pd"
      ]
    },
    {
      "cell_type": "code",
      "execution_count": null,
      "id": "1298d2d4",
      "metadata": {
        "id": "1298d2d4",
        "outputId": "df5dff94-573b-47b3-ee58-ec905587b938"
      },
      "outputs": [
        {
          "data": {
            "text/html": [
              "<div>\n",
              "<style scoped>\n",
              "    .dataframe tbody tr th:only-of-type {\n",
              "        vertical-align: middle;\n",
              "    }\n",
              "\n",
              "    .dataframe tbody tr th {\n",
              "        vertical-align: top;\n",
              "    }\n",
              "\n",
              "    .dataframe thead th {\n",
              "        text-align: right;\n",
              "    }\n",
              "</style>\n",
              "<table border=\"1\" class=\"dataframe\">\n",
              "  <thead>\n",
              "    <tr style=\"text-align: right;\">\n",
              "      <th></th>\n",
              "      <th>developer_id</th>\n",
              "      <th>developer</th>\n",
              "    </tr>\n",
              "  </thead>\n",
              "  <tbody>\n",
              "    <tr>\n",
              "      <th>0</th>\n",
              "      <td>0</td>\n",
              "      <td>SIE Santa Monica Studio</td>\n",
              "    </tr>\n",
              "    <tr>\n",
              "      <th>1</th>\n",
              "      <td>1</td>\n",
              "      <td>Omega Force</td>\n",
              "    </tr>\n",
              "    <tr>\n",
              "      <th>2</th>\n",
              "      <td>2</td>\n",
              "      <td>Capcom</td>\n",
              "    </tr>\n",
              "    <tr>\n",
              "      <th>3</th>\n",
              "      <td>3</td>\n",
              "      <td>Rockstar North</td>\n",
              "    </tr>\n",
              "    <tr>\n",
              "      <th>4</th>\n",
              "      <td>4</td>\n",
              "      <td>Konami</td>\n",
              "    </tr>\n",
              "  </tbody>\n",
              "</table>\n",
              "</div>"
            ],
            "text/plain": [
              "   developer_id                developer\n",
              "0             0  SIE Santa Monica Studio\n",
              "1             1              Omega Force\n",
              "2             2                   Capcom\n",
              "3             3           Rockstar North\n",
              "4             4                   Konami"
            ]
          },
          "execution_count": 37,
          "metadata": {},
          "output_type": "execute_result"
        }
      ],
      "source": [
        "developer_df=pd.read_csv(\"E:\\SPLIT_FILE\\developer_data.csv\") #read developer csv file\n",
        "developer_df.head()"
      ]
    },
    {
      "cell_type": "code",
      "execution_count": null,
      "id": "0463769d",
      "metadata": {
        "id": "0463769d",
        "outputId": "fbb349ce-14ad-4aa0-824a-32067b472c20"
      },
      "outputs": [
        {
          "name": "stdout",
          "output_type": "stream",
          "text": [
            "<class 'pandas.core.frame.DataFrame'>\n",
            "RangeIndex: 3276 entries, 0 to 3275\n",
            "Data columns (total 2 columns):\n",
            " #   Column        Non-Null Count  Dtype \n",
            "---  ------        --------------  ----- \n",
            " 0   developer_id  3276 non-null   int64 \n",
            " 1   developer     3275 non-null   object\n",
            "dtypes: int64(1), object(1)\n",
            "memory usage: 51.3+ KB\n"
          ]
        }
      ],
      "source": [
        "developer_df.info()"
      ]
    },
    {
      "cell_type": "code",
      "execution_count": null,
      "id": "a97897cf",
      "metadata": {
        "id": "a97897cf",
        "outputId": "1b1437e3-1519-4f94-b837-c22d56dbad3d"
      },
      "outputs": [
        {
          "name": "stdout",
          "output_type": "stream",
          "text": [
            "Connection established...\n",
            "Inserted data from developer Dataframe into developer table...\n"
          ]
        }
      ],
      "source": [
        "param_dic = {\n",
        "\n",
        "    \"host\"      : \"localhost\",\n",
        "\n",
        "    \"database\"  :\"Video_games\",  \n",
        "\n",
        "    \"user\"      : \"postgres\",\n",
        "\n",
        "    \"password\"  : \"password\" \n",
        "    \n",
        "\n",
        "}\n",
        "\n",
        "connect = \"postgresql+psycopg2://%s:%s@%s:5432/%s\" % (\n",
        "\n",
        "    param_dic['user'],\n",
        "\n",
        "    param_dic['password'],\n",
        "\n",
        "    param_dic['host'],\n",
        "\n",
        "    param_dic['database']\n",
        "\n",
        ")\n",
        "\n",
        "\n",
        "\n",
        "engine = create_engine(connect)\n",
        "\n",
        "print(\"Connection established...\")\n",
        "\n",
        "\n",
        "\n",
        "# Write data from Dataframe into Database Tables\n",
        "\n",
        "developer_df.to_sql('developer',con=engine,if_exists='append',index=False,method='multi')\n",
        "\n",
        "print(\"Inserted data from developer Dataframe into developer table...\")\n"
      ]
    },
    {
      "cell_type": "markdown",
      "source": [
        "#Load all files to database"
      ],
      "metadata": {
        "id": "nrg6rnyA0pnz"
      },
      "id": "nrg6rnyA0pnz"
    }
  ],
  "metadata": {
    "kernelspec": {
      "display_name": "Python 3 (ipykernel)",
      "language": "python",
      "name": "python3"
    },
    "language_info": {
      "codemirror_mode": {
        "name": "ipython",
        "version": 3
      },
      "file_extension": ".py",
      "mimetype": "text/x-python",
      "name": "python",
      "nbconvert_exporter": "python",
      "pygments_lexer": "ipython3",
      "version": "3.9.12"
    },
    "colab": {
      "provenance": []
    }
  },
  "nbformat": 4,
  "nbformat_minor": 5
}